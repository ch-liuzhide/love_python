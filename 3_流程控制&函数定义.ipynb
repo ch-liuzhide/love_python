{
 "cells": [
  {
   "cell_type": "markdown",
   "metadata": {},
   "source": [
    "# 流程控制和函数定义\n",
    "\n",
    "对程序进行流程控制有一些指令很好的帮助了我们，在这方面大佬们在设计时保持了一致的意见，大多数语言在这方面的语法、命名和用法都相似。\n",
    "而函数则有些许不同。"
   ]
  },
  {
   "cell_type": "markdown",
   "metadata": {},
   "source": [
    "## 1. if 语句\n",
    "这可能是最为人所熟知的编程语句了，python中用法如下："
   ]
  },
  {
   "cell_type": "code",
   "execution_count": null,
   "metadata": {},
   "outputs": [],
   "source": [
    "x = int(input(\"Please enter an integer: \"))\n",
    "if x < 0:\n",
    "    print('{} changed to zero'.format(x))\n",
    "    x = 0\n",
    "elif x==0:\n",
    "    print('Zero')\n",
    "elif x%2==1:\n",
    "    print('{} is an odd number'.format(x))\n",
    "else:\n",
    "    print('More')"
   ]
  },
  {
   "cell_type": "markdown",
   "metadata": {},
   "source": [
    "可以有零个或多个 elif 部分，以及一个可选的 else 部分。关键字 'elif' 是 'else if' 的缩写，适合用于避免过多的缩进。 一个 if ... elif ... elif ... 序列可以看作是其他语言中的 switch 或 case 语句的替代。"
   ]
  },
  {
   "cell_type": "markdown",
   "metadata": {},
   "source": [
    "## 2. for 语句\n",
    "Python 中的 for 语句与你在 C 或 Pascal 中可能用到的有所不同。 Python 中的 for 语句并不总是对算术递增的数值进行迭代（如同 Pascal），或是给予用户定义迭代步骤和暂停条件的能力（如同 C），而是对任意序列进行迭代（例如列表或字符串），条目的迭代顺序与它们在序列中出现的顺序一致:"
   ]
  },
  {
   "cell_type": "code",
   "execution_count": null,
   "metadata": {},
   "outputs": [],
   "source": [
    "words = ['dog','bird','cat']\n",
    "for w in words:\n",
    "    print(w,len(w))"
   ]
  },
  {
   "cell_type": "markdown",
   "metadata": {},
   "source": [
    "## 3. `range()`函数"
   ]
  },
  {
   "cell_type": "markdown",
   "metadata": {},
   "source": [
    "如果你确实需要遍历一个数字序列，内置函数 range() 会派上用场。它生成算术级数（不是列表）:"
   ]
  },
  {
   "cell_type": "code",
   "execution_count": null,
   "metadata": {},
   "outputs": [],
   "source": [
    "for i in range(5):\n",
    "    print(i)"
   ]
  },
  {
   "cell_type": "markdown",
   "metadata": {},
   "source": [
    "给定的终止数值并不在要生成的序列里；`range(10)` 会生成10个值，并且是以合法的索引生成一个长度为10的序列(不包含10)。range也可以以另一个数字开头，或者以指定的幅度增加（甚至是负数；有时这也被叫做 '步进'），等差数列，嗯哼？"
   ]
  },
  {
   "cell_type": "code",
   "execution_count": null,
   "metadata": {},
   "outputs": [],
   "source": [
    "r1 = range(5,10)\n",
    "for i in r1:\n",
    "    print(i)\n",
    "    \n",
    "print('=========')\n",
    "\n",
    "r2 = range(0,10,3)\n",
    "for i in r2:\n",
    "    print(i)\n",
    "\n",
    "print('=========')\n",
    "r3 = range(0,-10,-3)\n",
    "for i in r3:\n",
    "    print(i)"
   ]
  },
  {
   "cell_type": "markdown",
   "metadata": {},
   "source": [
    "`range()` 所返回的对象在许多方面表现得像一个列表，但实际上却并不是。此对象会在你迭代它时基于所希望的序列返回连续的项，但它没有真正生成列表，这样做能节省空间。 \n",
    "我们说这样的对象是 *可迭代的* ，也就是说，适合作为其它函数和结构体的参数，这些函数和结构体期望在迭代结束之前可以从中获取连续的元素。我们已经看到 for 语句就是这样一个迭代器。函数 list() 是另外一个：它从可迭代对象中创建列表。"
   ]
  },
  {
   "cell_type": "code",
   "execution_count": null,
   "metadata": {},
   "outputs": [],
   "source": [
    "list(range(1,10))"
   ]
  },
  {
   "cell_type": "markdown",
   "metadata": {},
   "source": [
    "后面，我们会看到更多返回可迭代对象的函数，和以可迭代对象作为参数的函数。"
   ]
  },
  {
   "cell_type": "markdown",
   "metadata": {},
   "source": [
    "## 4. break 和 continue 语句，以及循环中的else子句\n",
    "break 语句，和 C 中的类似，用于跳出最近的 for 或 while 循环.\n",
    "\n",
    "循环语句可能带有一个 else 子句；它会在循环遍历完列表 (使用 for) 或是在条件变为假 (使用 while) 的时候被执行，但是不会在循环被 break 语句终止时被执行。 这可以通过以下搜索素数的循环为例来进行说明:"
   ]
  },
  {
   "cell_type": "code",
   "execution_count": null,
   "metadata": {},
   "outputs": [],
   "source": [
    "for n in range(2,10):\n",
    "    for x in range(2,n):\n",
    "        if n % x == 0:\n",
    "            print(n,'equals',x,'*',n//x)\n",
    "            break\n",
    "    else:\n",
    "        print(n,'is a prime number')"
   ]
  },
  {
   "cell_type": "markdown",
   "metadata": {},
   "source": [
    "\n",
    "（是的，这是正确的代码。仔细看： else 子句属于 for 循环， 不属于 if 语句。一般语言可没这个用法）\n",
    "\n",
    "当和循环一起使用时，else 子句与 try 语句中的 else 子句的共同点多于 if 语句中的子句: try 语句中的 else 子句会在未发生异常时执行，而循环中的 else 子句则会在未发生 break 时执行。 有关 try 语句和异常的更多信息，请参阅 [处理异常](https://docs.python.org/zh-cn/3/tutorial/errors.html#tut-handling)。\n",
    "\n",
    "continue 语句也是借鉴自 C 语言，表示继续循环中的下一次迭代:"
   ]
  },
  {
   "cell_type": "code",
   "execution_count": null,
   "metadata": {},
   "outputs": [],
   "source": [
    "for num in range(2,10):\n",
    "    if num % 2 == 0:\n",
    "        print(\"Found an even number\",num)\n",
    "        continue\n",
    "    print(\"Found a number\",num)"
   ]
  },
  {
   "cell_type": "markdown",
   "metadata": {},
   "source": [
    "## 5. `pass`语句 \n",
    "pass 语句就是pass,什么都不做。当语法上需要一个语句，但程序需要什么动作也不做时，可以使用它。例如："
   ]
  },
  {
   "cell_type": "code",
   "execution_count": null,
   "metadata": {},
   "outputs": [],
   "source": [
    "#很不幸，在notebook这里会卡死\n",
    "print(1+1)\n",
    "while True:\n",
    "    pass\n",
    "print(2+2)"
   ]
  },
  {
   "cell_type": "markdown",
   "metadata": {},
   "source": [
    "通常用于创建最小的类："
   ]
  },
  {
   "cell_type": "code",
   "execution_count": null,
   "metadata": {},
   "outputs": [],
   "source": [
    "class MyEmptyClass:\n",
    "    pass"
   ]
  },
  {
   "cell_type": "markdown",
   "metadata": {},
   "source": [
    "pass 的另一个可以使用的场合是在你编写新的代码时作为一个函数或条件子具体的占位符，允许你先不把功能实现，而是专注于更高抽象的层次，`pass`会被静默地忽略："
   ]
  },
  {
   "cell_type": "code",
   "execution_count": null,
   "metadata": {},
   "outputs": [],
   "source": [
    "def func(*args):\n",
    "    pass"
   ]
  },
  {
   "cell_type": "markdown",
   "metadata": {},
   "source": [
    "## 6. 定义函数\n",
    "我们再来重复一下最开始教程的创建一个Fibonacci数列的函数"
   ]
  },
  {
   "cell_type": "code",
   "execution_count": null,
   "metadata": {},
   "outputs": [],
   "source": [
    "#定义函数\n",
    "def fib(n):\n",
    "    a , b = 0 , 1\n",
    "    while a < n:\n",
    "        print(a,end = ' ')\n",
    "        a,b = b, a+b\n",
    "    print()\n",
    " \n",
    "# 执行函数\n",
    "fib(2000)"
   ]
  },
  {
   "cell_type": "markdown",
   "metadata": {},
   "source": [
    "关键字` def `引入一个 *函数* 定义。它必须后跟函数名称和带括号的形式参数列表。构成函数体的语句从下一行开始，并且必须缩进。 \n",
    "\n",
    "函数体的第一个语句可以（可选的）是字符串文字；这个字符串文字是函数的文档字符串或 docstring 。\n",
    "\n",
    "函数的 执行 会引入一个用于函数局部变量的新符号表。 更确切地说，函数中所有的变量赋值都将存储在局部符号表中；而变量引用会首先在局部符号表中查找，然后是外层函数的局部符号表，最后是内置名称表。 因此，全局变量和外层函数的变量不能在函数内部直接赋值（除非是在 global 语句中定义的全局变量，或者是在 nonlocal 语句中定义的外层函数的变量），尽管它们可以被引用。\n",
    "\n",
    "在函数被调用时，参数（我们叫它实参）会被引入被调用函数的本地符号表中；因此，实参是通过 按值调用 传递的（其中 值 始终是对象 引用 而不是对象的值）。当一个函数调用另外一个函数时，将会为该调用创建一个新的本地符号表。\n",
    "\n",
    "函数定义会把函数名引入当前的符号表中。函数名称的值具有解释器将其识别为用户定义函数的类型。这个值可以分配给另一个名称，该名称也可以作为一个函数使用。这用作一般的重命名机制:"
   ]
  },
  {
   "cell_type": "code",
   "execution_count": null,
   "metadata": {},
   "outputs": [],
   "source": [
    "fib"
   ]
  },
  {
   "cell_type": "code",
   "execution_count": null,
   "metadata": {},
   "outputs": [],
   "source": [
    "f =fib\n",
    "f(100)"
   ]
  },
  {
   "cell_type": "markdown",
   "metadata": {},
   "source": [
    "因为这个函数没有`return`,看起来这个函数并不返回值。事实上，即使没有 `return` 语句的函数也会返回一个值，尽管它是一个相当无聊的值。这个值就是 `None` （它是内置名称）。一般来说解释器不会打印出单独的返回值 `None` ，如果你真想看到它，你可以使用 `print()`"
   ]
  },
  {
   "cell_type": "code",
   "execution_count": null,
   "metadata": {},
   "outputs": [],
   "source": [
    "print(fib(0))"
   ]
  },
  {
   "cell_type": "markdown",
   "metadata": {},
   "source": [
    "__作业：写一个返回斐波那契数列的列表(list)，而不是打印出来的函数（参考答案可以本页最后）__"
   ]
  },
  {
   "cell_type": "code",
   "execution_count": null,
   "metadata": {},
   "outputs": [],
   "source": [
    "def getfiblist(n):\n",
    "    result = []\n",
    "    a,b = 0,1\n",
    "    while a < n :\n",
    "       result.append(a)\n",
    "       a, b = b , a+b\n",
    "    return result\n",
    "     \n",
    "fib_list = getfiblist(100)\n",
    "fib_list"
   ]
  },
  {
   "cell_type": "markdown",
   "metadata": {},
   "source": [
    "`result.append(a)` 语句调用了列表对象 result 的 * 。方法是 '属于'或者说'包含在' 一个对象里的函数，它被命名为 obj.methodname ，其中 obj 是某个对象（也可能是一个表达式）， methodname 是由对象类型中定义的方法的名称。不同的类型可以定义不同的方法。不同类型的方法可以有相同的名称而不会引起歧义。（可以使用 类 定义自己的对象类型和方法，请参阅 类 ）示例中的方法 append() 是为列表对象定义的；它会在列表的最后添加一个新的元素。在这个示例中它相当于 `result = result + [a] `，但更高效。"
   ]
  },
  {
   "cell_type": "markdown",
   "metadata": {},
   "source": [
    "## 7.函数定义的更多形式 \n",
    "\n",
    "给函数定义有可变数目的参数也是可行的。这里有三种形式，可以组合使用，由于函数是程序中非常重要的一部分，要重视点才行。  "
   ]
  },
  {
   "cell_type": "markdown",
   "metadata": {},
   "source": [
    "### 7.1 参数默认值\n",
    "最有用的形式是对一个或多个参数指定一个默认值。这样创建的函数，可以用比定义时允许的更少的参数调用，比如："
   ]
  },
  {
   "cell_type": "code",
   "execution_count": null,
   "metadata": {},
   "outputs": [],
   "source": [
    "def ask_ok(promt,retires=4,reminder = 'Please try again!'):\n",
    "    while True:\n",
    "        ok =input(promt)\n",
    "        if ok in ('y','ye','yes'):\n",
    "            return True\n",
    "        if ok in ('n','no','nop','nope'):\n",
    "            return False\n",
    "        retires = retires -1 \n",
    "        if retires <0:\n",
    "            raise ValueError('invalid user response')\n",
    "        print(reminder)        "
   ]
  },
  {
   "cell_type": "markdown",
   "metadata": {},
   "source": [
    "这个函数可以通过几种方式调用：\n",
    "- 只给出必需的参数 `ask_ok('Do you really want to quit?')`  \n",
    "- 给出一个可选的参数`ask_ok(Ok)`\n",
    "- 或者给出所有的参数:`ask_ok('OK to overwrite the file?',2,'咋回事大兄弟，只能输入yes或者no')`"
   ]
  },
  {
   "cell_type": "code",
   "execution_count": null,
   "metadata": {
    "scrolled": true
   },
   "outputs": [],
   "source": [
    "ask_ok('OK to overwrite the file?',2,'咋回事大兄弟，只能输入yes或者no')"
   ]
  },
  {
   "cell_type": "markdown",
   "metadata": {},
   "source": [
    "这个示例还介绍了 `in` 关键字。它可以测试一个序列是否包含某个值。\n",
    "\n",
    "默认值是在 定义过程 中在函数定义处计算的，所以"
   ]
  },
  {
   "cell_type": "code",
   "execution_count": null,
   "metadata": {},
   "outputs": [],
   "source": [
    "i = 5\n",
    "\n",
    "def f(arg=i):\n",
    "    print(arg)\n",
    "\n",
    "i = 6\n",
    "#会打印出什么呢\n",
    "f()"
   ]
  },
  {
   "cell_type": "markdown",
   "metadata": {},
   "source": [
    "<div style=\"color:red;display:inline\">超级无敌重要警告:</div>\n",
    "默认值只会执行一次。这条规则在默认值为可变对象（列表、字典以及大多数类实例）时很重要,也是新手在写程序时容易忽略的地方。比如，下面的函数中默认参数 L=[] 会存储在后续调用中传递给它的参数:"
   ]
  },
  {
   "cell_type": "code",
   "execution_count": null,
   "metadata": {},
   "outputs": [],
   "source": [
    "def f(a,L = []):\n",
    "    L.append(a)\n",
    "    return L\n",
    "\n",
    "print(f(1))\n",
    "print(f(2))\n",
    "print(f(3))"
   ]
  },
  {
   "cell_type": "markdown",
   "metadata": {},
   "source": [
    "如果你不想要在后续调用之间共享默认值，你可以这样写这个函数:"
   ]
  },
  {
   "cell_type": "code",
   "execution_count": null,
   "metadata": {},
   "outputs": [],
   "source": [
    "def f(a,L = None):\n",
    "    if L is None:\n",
    "        L = []\n",
    "    L.append(a)\n",
    "    return L"
   ]
  },
  {
   "cell_type": "markdown",
   "metadata": {},
   "source": [
    "## 7.2关键字参数\n",
    "也可以使用形如 kwarg=value 的 关键字参数 来调用函数。例如下面的函数:"
   ]
  },
  {
   "cell_type": "code",
   "execution_count": null,
   "metadata": {},
   "outputs": [],
   "source": [
    "def parrot(voltage, state='a stiff', action='voom', type='Norwegian Blue'):\n",
    "    print(\"-- This parrot wouldn't\", action, end=' ')\n",
    "    print(\"if you put\", voltage, \"volts through it.\")\n",
    "    print(\"-- Lovely plumage, the\", type)\n",
    "    print(\"-- It's\", state, \"!\")"
   ]
  },
  {
   "cell_type": "markdown",
   "metadata": {},
   "source": [
    "接受一个必需的参数（voltage）和三个可选的参数`state, action，和 type`，他们都有参数默认值。这个函数可以通过下面的任何一种方式调用，都是正确的:"
   ]
  },
  {
   "cell_type": "code",
   "execution_count": null,
   "metadata": {},
   "outputs": [],
   "source": [
    "parrot(1000)                                          # 调用一个位置参数\n",
    "parrot(voltage=1000)                                  # 调用一个关键字参数\n",
    "parrot(voltage=1000000, action='VOOOOOM')             # 调用二个关键字参数\n",
    "parrot(action='VOOOOOM', voltage=1000000)             # 调用二个关键字参数，先后顺序无所谓\n",
    "parrot('a million', 'bereft of life', 'jump')         # 将3个参数都用位置参数的形式调用，有先后顺序\n",
    "parrot('a thousand', state='pushing up the daisies')  # 调用一个位置参数，一个关键字参数"
   ]
  },
  {
   "cell_type": "markdown",
   "metadata": {},
   "source": [
    "下面举几个反例，他们分别错在哪里？  \n",
    "`\n",
    "parrot()                   \n",
    "parrot(voltage=5.0, 'dead') \n",
    "parrot(110, voltage=220)   \n",
    "parrot(actor='John Cleese')\n",
    "`"
   ]
  },
  {
   "cell_type": "markdown",
   "metadata": {},
   "source": [
    "在函数调用中，关键字的参数必须跟随在位置参数的后面。传递的所有关键字参数__必须__与函数接受的某个参数相匹配 （例如` actor` 不是` parrot `函数的有效参数），它们的顺序并不重要。这也包括非可选参数（例如 `parrot(voltage=1000)` 也是有效的）。任何参数都不可以多次赋值。下面的示例由于这种限制将失败:"
   ]
  },
  {
   "cell_type": "code",
   "execution_count": null,
   "metadata": {},
   "outputs": [],
   "source": [
    "def func(a,b):\n",
    "    pass\n",
    "\n",
    "func(0,a=0) #相当于重复赋值\n"
   ]
  },
  {
   "cell_type": "markdown",
   "metadata": {},
   "source": [
    "有时你会看到定义函数时参数列表里出现形如 `**name` 的参数时，它接收一个`字典(一种基础数据结构，下一节会讲解)`，该字典包含了所有未出现在形式参数列表中的关键字参数。这里可能还会组合使用一个形如 `*name` （下一小节详细介绍） 的形式参数，它接收一个`元组（下一节中会详细介绍）`，包含了所有没有出现在形式参数列表中的参数值 (__注意__：`*name` 必须在 ` **name `之前出现)。 例如，我们这样定义一个函数:"
   ]
  },
  {
   "cell_type": "code",
   "execution_count": null,
   "metadata": {},
   "outputs": [],
   "source": [
    "def cheeseshop(kind, *arguments, **keywords):\n",
    "    print(\"-- Do you have any\", kind, \"?\")\n",
    "    print(\"-- I'm sorry, we're all out of\", kind)\n",
    "    for arg in arguments:\n",
    "        print(arg)\n",
    "    print(\"-\" * 40)\n",
    "    keys = sorted(keywords.keys())  #通过对关键字字典 keys() 方法的结果进行排序，生成了关键字参数名的列表\n",
    "    for kw in keys:\n",
    "        print(kw, \":\", keywords[kw])\n",
    "        \n",
    "#可以这样调用，第一个参数就是kind,第二，三，四个参数组成元组由*arguments接收,剩下的就组成字典由**keywords接收\n",
    "cheeseshop(\"Limburger\", \"It's very runny, sir.\",\n",
    "           \"It's really very, VERY runny, sir.\",\n",
    "           shopkeeper=\"Michael Palin\",\n",
    "           client=\"John Cleese\",\n",
    "           sketch=\"Cheese Shop Sketch\")"
   ]
  },
  {
   "cell_type": "markdown",
   "metadata": {},
   "source": [
    "## 7.3 可变参数列表\n",
    "最后，一个最不常用的选择是可以让函数调用可变个数的参数。这些参数被包装进一个元组（参见 元组和序列 ）。在这些可变个数的参数之前，可以有零到多个普通的参数:"
   ]
  },
  {
   "cell_type": "code",
   "execution_count": null,
   "metadata": {},
   "outputs": [],
   "source": [
    "def write_multiple_items(file, separator, *args):\n",
    "    file.write(separator.join(args))"
   ]
  },
  {
   "cell_type": "markdown",
   "metadata": {},
   "source": [
    "通常，这些 __可变__ 参数是参数列表中的最后一个，因为它们将把所有的剩余输入参数传递给函数。如果还有，那就是只能被用作关键字参数了，而不是位置参数:"
   ]
  },
  {
   "cell_type": "code",
   "execution_count": null,
   "metadata": {},
   "outputs": [],
   "source": [
    "#这是一个拼接字符串的函数，有一个可变参数，最后有一个位置参数\n",
    "def concat(*args,sep = \"/\"):\n",
    "    return sep.join(args)\n",
    "\n",
    "print(concat(\"earth\", \"mars\", \"venus\"))\n",
    "print(\"-\"*40)\n",
    "print(concat(\"earth\", \"mars\", \"venus\", sep=\".\"))"
   ]
  },
  {
   "cell_type": "markdown",
   "metadata": {},
   "source": [
    "## 7.4参数列表的分拆\n",
    "另有一种 *相反* 的情况: 当你要传递的参数已经是一个`列表`了，但要调用的函数却接受分开一个个的参数值。这时候你要把已有的列表拆开来。例如内建函数` range()` 需要要独立的 start，stop 参数。你可以在调用函数时加一个` *` 操作符来自动把参数列表拆开:"
   ]
  },
  {
   "cell_type": "code",
   "execution_count": null,
   "metadata": {},
   "outputs": [],
   "source": [
    "list(range(3,6))  #一般来说是这样调用range函数生成一个列表"
   ]
  },
  {
   "cell_type": "code",
   "execution_count": null,
   "metadata": {},
   "outputs": [],
   "source": [
    "args=[3,6]            #参数是一个列表\n",
    "list(range(*args))    #给参数加一个* 号把列表给\"拆了\""
   ]
  },
  {
   "cell_type": "markdown",
   "metadata": {},
   "source": [
    "上面`range()`函数接收的是2个位置参数，如果是接收的是关键字参数:"
   ]
  },
  {
   "cell_type": "code",
   "execution_count": null,
   "metadata": {},
   "outputs": [],
   "source": [
    "def parrot(voltage, state='a stiff', action='voom'):\n",
    "     print(\"-- This parrot wouldn't\", action, end=' ')\n",
    "     print(\"if you put\", voltage, \"volts through it.\", end=' ')\n",
    "     print(\"E's\", state, \"!\")\n",
    "\n",
    "d = {\"voltage\": \"four million\", \"state\": \"bleedin' demised\", \"action\": \"VOOM\"}\n",
    "parrot(**d)          #将参数分解成关键字参数   "
   ]
  },
  {
   "cell_type": "markdown",
   "metadata": {},
   "source": [
    "## 7.5 Lambda \n",
    "出于实际需要，有几种通常在函数式编程语言例如 *Lisp*  中出现的功能加入到了 *Python* 。通过 `lambda` 关键字，可以创建__短小__的__匿名函数__。这里有一个函数返回它的两个参数的和： `lambda a, b: a+b`。 Lambda 形式可以用于任何需要的函数对象。出于语法限制，它们只能有一个单独的表达式。语义上讲，它们只是普通函数定义中的一个语法技巧。类似于嵌套函数定义，lambda 形式可以从外部作用域引用变量:"
   ]
  },
  {
   "cell_type": "code",
   "execution_count": null,
   "metadata": {},
   "outputs": [],
   "source": [
    "def make_incrementor(n):\n",
    "    return lambda x:x+n        #返回一个Lambda 匿名函数\n",
    "\n",
    "f = make_incrementor(10)        # f 变成一个函数啦\n",
    "f(11)                             "
   ]
  },
  {
   "cell_type": "markdown",
   "metadata": {},
   "source": [
    "上面的示例使用 lambda 表达式返回一个函数。另一个用途是将一个小函数作为参数传递:"
   ]
  },
  {
   "cell_type": "code",
   "execution_count": null,
   "metadata": {},
   "outputs": [],
   "source": [
    "pairs = [(1, 'one'), (2, 'two'), (3, 'three'), (4, 'four')]  \n",
    "\n",
    "pairs.sort(key=lambda pair: pair[1])   #取pairs列表的元组中的第二个值作为列表排序方法中进行比较的元素。\n",
    "\n",
    "pairs  "
   ]
  },
  {
   "cell_type": "markdown",
   "metadata": {},
   "source": [
    "## 7.6文档字符串\n",
    "这里介绍的文档字符串的概念和格式。  \n",
    "\n",
    "第一行应该是关于对象用途的简介。简短起见，不用明确的陈述对象名或类型，因为它们可以从别的途径了解到（除非这个名字碰巧就是描述这个函数操作的动词）。这一行应该以大写字母开头，以句号结尾。  \n",
    "\n",
    "如果文档字符串有多行，__第二行应该空出来__，与接下来的详细描述明确分隔。接下来的文档应该有一或多段描述对象的调用约定、边界效应等。  \n",
    "\n",
    "Python 的解释器不会从多行的文档字符串中去除缩进，所以必要的时候应当自己清除缩进。这符合通常的习惯。第一行之后的第一个非空行决定了整个文档的缩进格式。（我们不用第一行是因为它通常紧靠着起始的引号，缩进格式显示的不清楚。）留白“相当于”是字符串的起始缩进。每一行都不应该有缩进，如果有缩进的话，所有的留白都应该清除掉。留白的长度应当等于扩展制表符的宽度（通常是8个空格）。  \n",
    " \n",
    "以下是一个多行文档字符串的示例:  "
   ]
  },
  {
   "cell_type": "code",
   "execution_count": null,
   "metadata": {},
   "outputs": [],
   "source": [
    "def my_function():\n",
    "        \"\"\"Do nothing, but document it.\n",
    "        \n",
    "No, really, it doesn't do anything.\n",
    "        \"\"\"\n",
    "\n",
    "print(my_function.__doc__)"
   ]
  },
  {
   "cell_type": "markdown",
   "metadata": {},
   "source": [
    "## 7.7 函数标注\n",
    "函数标注 是关于用户自定义函数中使用的类型的完全可选元数据信息\n",
    "\n",
    "函数标注 以字典的形式存放在函数的 `__annotations__` 属性中，并且不会影响函数的任何其他部分。 形参标注的定义方式是在形参名称后加上冒号，后面跟一个表达式，该表达式会被求值为标注的值。 返回值标注的定义方式是加上一个组合符号` ->`，后面跟一个表达式，该标注位于形参列表和表示 def 语句结束的`冒号`之间。 下面的示例有一个位置参数，一个关键字参数以及返回值带有相应标注:"
   ]
  },
  {
   "cell_type": "code",
   "execution_count": null,
   "metadata": {},
   "outputs": [],
   "source": [
    "def f(kind: str, num: int = 0) ->str:  \n",
    "    return \"The {} we have is {}\".format(kind,num)\n",
    "\n",
    "print(f(\"ham\",10))\n",
    "print(\"Annotations:\", f.__annotations__)"
   ]
  },
  {
   "cell_type": "markdown",
   "metadata": {},
   "source": [
    "## 编码风格\n",
    "\n",
    "此时你已经可以写一些更长更复杂的 Python 程序，(也许等学完数据结构再说比较合适？)是时候讨论一下 `编码风格`了。大多数语言可以写（或者更明白的说，**格式化**）作几种不同的风格。有些风格比其它的可读性更好。让你的代码对别人来说更易读是更好的，而养成良好的编码风格对此很有帮助。\n",
    "\n",
    "对于 Python，PEP 8 引入了大多数项目遵循的风格指导。它给出了一个高度可读，视觉友好的编码风格。每个 Python 开发者都应该读一下，大多数要点都会对你有帮助：\n",
    "\n",
    "- 使用 4 空格缩进，而非 TAB\n",
    "\n",
    "- 在小缩进（可以嵌套更深）和大缩进（更易读）之间，4空格是一个很好的折中。TAB 引发了一些混乱，最好弃用\n",
    "\n",
    "- 折行以确保其不会超过 79 个字符 ，这有助于小显示器用户阅读，也可以让大显示器能并排显示几个代码文件\n",
    "\n",
    "- 使用空行分隔 函数 和 类 ，以及函数中的大块代码\n",
    "\n",
    "- 可能的话，注释独占一行\n",
    "\n",
    "- 使用文档字符串\n",
    "\n",
    "- 把空格放到操作符两边，以及逗号后面，但是括号里侧不加空格：a = f(1, 2) + g(3, 4)\n",
    "\n",
    "- 统一函数和类命名。推荐类名用 `驼峰命名`， 函数和方法名用` 小写_`和`_下划线`。总是用` self` 作为方法的第一个参数（关于类和方法的知识后面会讲解）\n",
    "\n",
    "- 不要使用花哨的编码，如果你的代码的目的是要在国际化环境。Python 的默认情况下，UTF-8，甚至普通的 ASCII 总是工作的最好\n",
    "\n",
    "- 同样，也不要使用非 ASCII 字符的标识符，除非是不同语种的会阅读或者维护代码。"
   ]
  }
 ],
 "metadata": {
  "kernelspec": {
   "display_name": "Python 3",
   "language": "python",
   "name": "python3"
  },
  "language_info": {
   "codemirror_mode": {
    "name": "ipython",
    "version": 3
   },
   "file_extension": ".py",
   "mimetype": "text/x-python",
   "name": "python",
   "nbconvert_exporter": "python",
   "pygments_lexer": "ipython3",
   "version": "3.7.3"
  }
 },
 "nbformat": 4,
 "nbformat_minor": 2
}
