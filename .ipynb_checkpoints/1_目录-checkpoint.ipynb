{
 "cells": [
  {
   "cell_type": "markdown",
   "metadata": {},
   "source": [
    "<h1 style=\"color:#fb774e\">Python 教程</h1>"
   ]
  },
  {
   "cell_type": "markdown",
   "metadata": {},
   "source": [
    "Python 是一种易于学习又功能强大的编程语言。相比大多数语言它提供了高级数据结构，还有简单有效的面向对象编程。加上解释型语言的本质，使它成为多数平台上写脚本和快速开发应用的理想语言。*(人生苦短，快用 python)* \n",
    "\n",
    "Python 解释器及丰富的标准库以源码或机器码的形式提供，可以到 [Python 官网](https://www.python.org/) 获取更多咨询，现在有中文了哟(＾Ｕ＾)ノ~ＹＯ\n"
   ]
  },
  {
   "cell_type": "markdown",
   "metadata": {},
   "source": [
    "1. 课前甜点\n",
    "2. 使用 Python 解释器  \n",
    "    - 2.1. 调用解释器\n",
    "        - 2.1.1. 传入参数\n",
    "        - 2.1.2. 交互模式\n",
    "    - 2.2. 解释器的运行环境\n",
    "        - 2.2.1. 源文件的字符编码"
   ]
  },
  {
   "cell_type": "markdown",
   "metadata": {},
   "source": [
    "### 使用说明\n",
    "本教程运行在anaconda 的jupyter notebook中,代码部分基于Python3，希望通过notebook的提供的代码编辑运行功能，实现边学边写代码实践的诉求，提高python语言学习的效率。"
   ]
  }
 ],
 "metadata": {
  "kernelspec": {
   "display_name": "Python 3",
   "language": "python",
   "name": "python3"
  },
  "language_info": {
   "codemirror_mode": {
    "name": "ipython",
    "version": 3
   },
   "file_extension": ".py",
   "mimetype": "text/x-python",
   "name": "python",
   "nbconvert_exporter": "python",
   "pygments_lexer": "ipython3",
   "version": "3.7.3"
  }
 },
 "nbformat": 4,
 "nbformat_minor": 2
}
